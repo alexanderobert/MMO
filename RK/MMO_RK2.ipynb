{
  "nbformat": 4,
  "nbformat_minor": 0,
  "metadata": {
    "colab": {
      "name": "MMO_RK2.ipynb",
      "provenance": [],
      "collapsed_sections": []
    },
    "kernelspec": {
      "name": "python3",
      "display_name": "Python 3"
    },
    "language_info": {
      "name": "python"
    }
  },
  "cells": [
    {
      "cell_type": "markdown",
      "source": [
        "**Выполнил:** Карягин А.Д.\n",
        "\n",
        "**Группа:** ИУ5-22М\n",
        "\n",
        "**Задание:** Необходимо решить задачу классификации текстов, сформировав два варианта векторизации признаков - на основе CountVectorizer и на основе TfidfVectorizer. В качестве классификаторов необходимо использовать два классификатора:\n",
        "\n",
        "\n",
        "*   Random Forest Classifier\n",
        "*   Complement Naive Bayes\n",
        "\n"
      ],
      "metadata": {
        "id": "h41vCYmLO7kZ"
      }
    },
    {
      "cell_type": "code",
      "execution_count": null,
      "metadata": {
        "id": "9HZIdifsKBLJ"
      },
      "outputs": [],
      "source": [
        "import numpy as np\n",
        "import pandas as pd\n",
        "from sklearn.feature_extraction.text import CountVectorizer, TfidfVectorizer\n",
        "from sklearn.model_selection import train_test_split\n",
        "from sklearn.metrics import classification_report\n",
        "from sklearn.ensemble import RandomForestClassifier\n",
        "from sklearn.naive_bayes import ComplementNB"
      ]
    },
    {
      "cell_type": "code",
      "source": [
        "df = pd.read_csv('train.csv', usecols=['Description', 'Class Index'], nrows=10000)\n",
        "df"
      ],
      "metadata": {
        "colab": {
          "base_uri": "https://localhost:8080/",
          "height": 419
        },
        "id": "-TdeJh2XKeHu",
        "outputId": "b0fd11ac-12ac-4c97-d487-dcfd94d30650"
      },
      "execution_count": null,
      "outputs": [
        {
          "output_type": "execute_result",
          "data": {
            "text/plain": [
              "      Class Index                                        Description\n",
              "0               3  Reuters - Short-sellers, Wall Street's dwindli...\n",
              "1               3  Reuters - Private investment firm Carlyle Grou...\n",
              "2               3  Reuters - Soaring crude prices plus worries\\ab...\n",
              "3               3  Reuters - Authorities have halted oil export\\f...\n",
              "4               3  AFP - Tearaway world oil prices, toppling reco...\n",
              "...           ...                                                ...\n",
              "9995            4  Users of the music player should watch out for...\n",
              "9996            4  BMC Software has released a new version of Pat...\n",
              "9997            3  The chief of Beijing-backed China Aviation Oil...\n",
              "9998            3  BRUSSELS The European Commission has opened an...\n",
              "9999            4  Operation Digital Gridlock targets peer-to-pee...\n",
              "\n",
              "[10000 rows x 2 columns]"
            ],
            "text/html": [
              "\n",
              "  <div id=\"df-eb9e0af8-5bbe-43ea-8f2f-c47b56e52414\">\n",
              "    <div class=\"colab-df-container\">\n",
              "      <div>\n",
              "<style scoped>\n",
              "    .dataframe tbody tr th:only-of-type {\n",
              "        vertical-align: middle;\n",
              "    }\n",
              "\n",
              "    .dataframe tbody tr th {\n",
              "        vertical-align: top;\n",
              "    }\n",
              "\n",
              "    .dataframe thead th {\n",
              "        text-align: right;\n",
              "    }\n",
              "</style>\n",
              "<table border=\"1\" class=\"dataframe\">\n",
              "  <thead>\n",
              "    <tr style=\"text-align: right;\">\n",
              "      <th></th>\n",
              "      <th>Class Index</th>\n",
              "      <th>Description</th>\n",
              "    </tr>\n",
              "  </thead>\n",
              "  <tbody>\n",
              "    <tr>\n",
              "      <th>0</th>\n",
              "      <td>3</td>\n",
              "      <td>Reuters - Short-sellers, Wall Street's dwindli...</td>\n",
              "    </tr>\n",
              "    <tr>\n",
              "      <th>1</th>\n",
              "      <td>3</td>\n",
              "      <td>Reuters - Private investment firm Carlyle Grou...</td>\n",
              "    </tr>\n",
              "    <tr>\n",
              "      <th>2</th>\n",
              "      <td>3</td>\n",
              "      <td>Reuters - Soaring crude prices plus worries\\ab...</td>\n",
              "    </tr>\n",
              "    <tr>\n",
              "      <th>3</th>\n",
              "      <td>3</td>\n",
              "      <td>Reuters - Authorities have halted oil export\\f...</td>\n",
              "    </tr>\n",
              "    <tr>\n",
              "      <th>4</th>\n",
              "      <td>3</td>\n",
              "      <td>AFP - Tearaway world oil prices, toppling reco...</td>\n",
              "    </tr>\n",
              "    <tr>\n",
              "      <th>...</th>\n",
              "      <td>...</td>\n",
              "      <td>...</td>\n",
              "    </tr>\n",
              "    <tr>\n",
              "      <th>9995</th>\n",
              "      <td>4</td>\n",
              "      <td>Users of the music player should watch out for...</td>\n",
              "    </tr>\n",
              "    <tr>\n",
              "      <th>9996</th>\n",
              "      <td>4</td>\n",
              "      <td>BMC Software has released a new version of Pat...</td>\n",
              "    </tr>\n",
              "    <tr>\n",
              "      <th>9997</th>\n",
              "      <td>3</td>\n",
              "      <td>The chief of Beijing-backed China Aviation Oil...</td>\n",
              "    </tr>\n",
              "    <tr>\n",
              "      <th>9998</th>\n",
              "      <td>3</td>\n",
              "      <td>BRUSSELS The European Commission has opened an...</td>\n",
              "    </tr>\n",
              "    <tr>\n",
              "      <th>9999</th>\n",
              "      <td>4</td>\n",
              "      <td>Operation Digital Gridlock targets peer-to-pee...</td>\n",
              "    </tr>\n",
              "  </tbody>\n",
              "</table>\n",
              "<p>10000 rows × 2 columns</p>\n",
              "</div>\n",
              "      <button class=\"colab-df-convert\" onclick=\"convertToInteractive('df-eb9e0af8-5bbe-43ea-8f2f-c47b56e52414')\"\n",
              "              title=\"Convert this dataframe to an interactive table.\"\n",
              "              style=\"display:none;\">\n",
              "        \n",
              "  <svg xmlns=\"http://www.w3.org/2000/svg\" height=\"24px\"viewBox=\"0 0 24 24\"\n",
              "       width=\"24px\">\n",
              "    <path d=\"M0 0h24v24H0V0z\" fill=\"none\"/>\n",
              "    <path d=\"M18.56 5.44l.94 2.06.94-2.06 2.06-.94-2.06-.94-.94-2.06-.94 2.06-2.06.94zm-11 1L8.5 8.5l.94-2.06 2.06-.94-2.06-.94L8.5 2.5l-.94 2.06-2.06.94zm10 10l.94 2.06.94-2.06 2.06-.94-2.06-.94-.94-2.06-.94 2.06-2.06.94z\"/><path d=\"M17.41 7.96l-1.37-1.37c-.4-.4-.92-.59-1.43-.59-.52 0-1.04.2-1.43.59L10.3 9.45l-7.72 7.72c-.78.78-.78 2.05 0 2.83L4 21.41c.39.39.9.59 1.41.59.51 0 1.02-.2 1.41-.59l7.78-7.78 2.81-2.81c.8-.78.8-2.07 0-2.86zM5.41 20L4 18.59l7.72-7.72 1.47 1.35L5.41 20z\"/>\n",
              "  </svg>\n",
              "      </button>\n",
              "      \n",
              "  <style>\n",
              "    .colab-df-container {\n",
              "      display:flex;\n",
              "      flex-wrap:wrap;\n",
              "      gap: 12px;\n",
              "    }\n",
              "\n",
              "    .colab-df-convert {\n",
              "      background-color: #E8F0FE;\n",
              "      border: none;\n",
              "      border-radius: 50%;\n",
              "      cursor: pointer;\n",
              "      display: none;\n",
              "      fill: #1967D2;\n",
              "      height: 32px;\n",
              "      padding: 0 0 0 0;\n",
              "      width: 32px;\n",
              "    }\n",
              "\n",
              "    .colab-df-convert:hover {\n",
              "      background-color: #E2EBFA;\n",
              "      box-shadow: 0px 1px 2px rgba(60, 64, 67, 0.3), 0px 1px 3px 1px rgba(60, 64, 67, 0.15);\n",
              "      fill: #174EA6;\n",
              "    }\n",
              "\n",
              "    [theme=dark] .colab-df-convert {\n",
              "      background-color: #3B4455;\n",
              "      fill: #D2E3FC;\n",
              "    }\n",
              "\n",
              "    [theme=dark] .colab-df-convert:hover {\n",
              "      background-color: #434B5C;\n",
              "      box-shadow: 0px 1px 3px 1px rgba(0, 0, 0, 0.15);\n",
              "      filter: drop-shadow(0px 1px 2px rgba(0, 0, 0, 0.3));\n",
              "      fill: #FFFFFF;\n",
              "    }\n",
              "  </style>\n",
              "\n",
              "      <script>\n",
              "        const buttonEl =\n",
              "          document.querySelector('#df-eb9e0af8-5bbe-43ea-8f2f-c47b56e52414 button.colab-df-convert');\n",
              "        buttonEl.style.display =\n",
              "          google.colab.kernel.accessAllowed ? 'block' : 'none';\n",
              "\n",
              "        async function convertToInteractive(key) {\n",
              "          const element = document.querySelector('#df-eb9e0af8-5bbe-43ea-8f2f-c47b56e52414');\n",
              "          const dataTable =\n",
              "            await google.colab.kernel.invokeFunction('convertToInteractive',\n",
              "                                                     [key], {});\n",
              "          if (!dataTable) return;\n",
              "\n",
              "          const docLinkHtml = 'Like what you see? Visit the ' +\n",
              "            '<a target=\"_blank\" href=https://colab.research.google.com/notebooks/data_table.ipynb>data table notebook</a>'\n",
              "            + ' to learn more about interactive tables.';\n",
              "          element.innerHTML = '';\n",
              "          dataTable['output_type'] = 'display_data';\n",
              "          await google.colab.output.renderOutput(dataTable, element);\n",
              "          const docLink = document.createElement('div');\n",
              "          docLink.innerHTML = docLinkHtml;\n",
              "          element.appendChild(docLink);\n",
              "        }\n",
              "      </script>\n",
              "    </div>\n",
              "  </div>\n",
              "  "
            ]
          },
          "metadata": {},
          "execution_count": 3
        }
      ]
    },
    {
      "cell_type": "markdown",
      "source": [
        "## Feature preparation"
      ],
      "metadata": {
        "id": "2_wBZ3tqMRIO"
      }
    },
    {
      "cell_type": "code",
      "source": [
        "tfidfv = TfidfVectorizer()\n",
        "tfidf_ngram_features = tfidfv.fit_transform(df['Description'])\n",
        "tfidf_ngram_features"
      ],
      "metadata": {
        "colab": {
          "base_uri": "https://localhost:8080/"
        },
        "id": "J0Y3_RuXMA7X",
        "outputId": "59819763-613a-4946-be66-4dd8d65b5bde"
      },
      "execution_count": null,
      "outputs": [
        {
          "output_type": "execute_result",
          "data": {
            "text/plain": [
              "<10000x20257 sparse matrix of type '<class 'numpy.float64'>'\n",
              "\twith 283180 stored elements in Compressed Sparse Row format>"
            ]
          },
          "metadata": {},
          "execution_count": 4
        }
      ]
    },
    {
      "cell_type": "code",
      "source": [
        "countvec = CountVectorizer()\n",
        "countvec_ngram_features = countvec.fit_transform(df['Description'])\n",
        "countvec_ngram_features"
      ],
      "metadata": {
        "colab": {
          "base_uri": "https://localhost:8080/"
        },
        "id": "D66PvtOYMWHZ",
        "outputId": "98cff7d8-9788-4145-c8b8-d34e0db03fc5"
      },
      "execution_count": null,
      "outputs": [
        {
          "output_type": "execute_result",
          "data": {
            "text/plain": [
              "<10000x20257 sparse matrix of type '<class 'numpy.int64'>'\n",
              "\twith 283180 stored elements in Compressed Sparse Row format>"
            ]
          },
          "metadata": {},
          "execution_count": 5
        }
      ]
    },
    {
      "cell_type": "markdown",
      "source": [
        "## Random Forest Classificator"
      ],
      "metadata": {
        "id": "fJKp-b-DMWnQ"
      }
    },
    {
      "cell_type": "code",
      "source": [
        "# TFIDF + RFC\n",
        "X_train, X_test, y_train, y_test = train_test_split(tfidf_ngram_features, df['Class Index'], test_size=0.3, random_state=1)\n",
        "model = RandomForestClassifier()\n",
        "model.fit(X_train, y_train)\n",
        "y_pred = model.predict(X_test)\n",
        "print(classification_report(y_test, y_pred, digits=4, target_names=list(map(str, list(y_test.unique())))))"
      ],
      "metadata": {
        "colab": {
          "base_uri": "https://localhost:8080/"
        },
        "id": "gcagF877McCB",
        "outputId": "b0dc02a7-780f-4ddc-fe8b-b8e1ea59b5ce"
      },
      "execution_count": null,
      "outputs": [
        {
          "output_type": "stream",
          "name": "stdout",
          "text": [
            "              precision    recall  f1-score   support\n",
            "\n",
            "           1     0.8767    0.7773    0.8240       741\n",
            "           4     0.8752    0.9127    0.8936       699\n",
            "           3     0.8640    0.7719    0.8154       741\n",
            "           2     0.7489    0.8706    0.8052       819\n",
            "\n",
            "    accuracy                         0.8330      3000\n",
            "   macro avg     0.8412    0.8331    0.8345      3000\n",
            "weighted avg     0.8383    0.8330    0.8330      3000\n",
            "\n"
          ]
        }
      ]
    },
    {
      "cell_type": "code",
      "source": [
        "# CountVec + RFC\n",
        "X_train, X_test, y_train, y_test = train_test_split(countvec_ngram_features, df['Class Index'], test_size=0.3, random_state=1)\n",
        "model = RandomForestClassifier()\n",
        "model.fit(X_train, y_train)\n",
        "y_pred = model.predict(X_test)\n",
        "print(classification_report(y_test, y_pred, digits=4, target_names=list(map(str, list(y_test.unique())))))"
      ],
      "metadata": {
        "colab": {
          "base_uri": "https://localhost:8080/"
        },
        "id": "Mdm6kiKPMcu1",
        "outputId": "9d4ad1a0-daf7-40e9-8919-a57810919055"
      },
      "execution_count": null,
      "outputs": [
        {
          "output_type": "stream",
          "name": "stdout",
          "text": [
            "              precision    recall  f1-score   support\n",
            "\n",
            "           1     0.8972    0.7773    0.8330       741\n",
            "           4     0.8517    0.9285    0.8884       699\n",
            "           3     0.8676    0.7868    0.8252       741\n",
            "           2     0.7662    0.8645    0.8124       819\n",
            "\n",
            "    accuracy                         0.8387      3000\n",
            "   macro avg     0.8457    0.8393    0.8397      3000\n",
            "weighted avg     0.8435    0.8387    0.8384      3000\n",
            "\n"
          ]
        }
      ]
    },
    {
      "cell_type": "markdown",
      "source": [
        "## Complement Naive Bayes"
      ],
      "metadata": {
        "id": "ix_WksDiMdEL"
      }
    },
    {
      "cell_type": "code",
      "source": [
        "# TFIDF + CNB\n",
        "X_train, X_test, y_train, y_test = train_test_split(tfidf_ngram_features, df['Class Index'], test_size=0.3, random_state=1)\n",
        "model = ComplementNB()\n",
        "model.fit(X_train, y_train)\n",
        "y_pred = model.predict(X_test)\n",
        "print(classification_report(y_test, y_pred, digits=4, target_names=list(map(str, list(y_test.unique())))))"
      ],
      "metadata": {
        "colab": {
          "base_uri": "https://localhost:8080/"
        },
        "id": "xRXBiroFMh61",
        "outputId": "170d80c1-3e13-46b8-b0db-61d0ade84901"
      },
      "execution_count": null,
      "outputs": [
        {
          "output_type": "stream",
          "name": "stdout",
          "text": [
            "              precision    recall  f1-score   support\n",
            "\n",
            "           1     0.8897    0.8273    0.8573       741\n",
            "           4     0.8779    0.9671    0.9204       699\n",
            "           3     0.8386    0.8623    0.8503       741\n",
            "           2     0.8870    0.8437    0.8648       819\n",
            "\n",
            "    accuracy                         0.8730      3000\n",
            "   macro avg     0.8733    0.8751    0.8732      3000\n",
            "weighted avg     0.8736    0.8730    0.8723      3000\n",
            "\n"
          ]
        }
      ]
    },
    {
      "cell_type": "code",
      "source": [
        "# CountVec + CNB\n",
        "X_train, X_test, y_train, y_test = train_test_split(countvec_ngram_features, df['Class Index'], test_size=0.3, random_state=1)\n",
        "model = ComplementNB()\n",
        "model.fit(X_train, y_train)\n",
        "y_pred = model.predict(X_test)\n",
        "print(classification_report(y_test, y_pred, digits=4, target_names=list(map(str, list(y_test.unique())))))"
      ],
      "metadata": {
        "colab": {
          "base_uri": "https://localhost:8080/"
        },
        "id": "nTC-nE0POCcQ",
        "outputId": "1f6c57b3-1492-4796-e029-2688a2182246"
      },
      "execution_count": null,
      "outputs": [
        {
          "output_type": "stream",
          "name": "stdout",
          "text": [
            "              precision    recall  f1-score   support\n",
            "\n",
            "           1     0.8903    0.8327    0.8605       741\n",
            "           4     0.8740    0.9728    0.9208       699\n",
            "           3     0.8593    0.8408    0.8499       741\n",
            "           2     0.8756    0.8596    0.8675       819\n",
            "\n",
            "    accuracy                         0.8747      3000\n",
            "   macro avg     0.8748    0.8765    0.8747      3000\n",
            "weighted avg     0.8749    0.8747    0.8739      3000\n",
            "\n"
          ]
        }
      ]
    },
    {
      "cell_type": "markdown",
      "source": [
        "# Выводы:\n",
        "\n",
        "\n",
        "\n",
        "1.   CountVectorizer показал лучший результат в обоих моделях \n",
        "2.   Complement Naive Bayes показал лучший результат по сравнению с Random Forest\n",
        "\n"
      ],
      "metadata": {
        "id": "hsLK77wfONMk"
      }
    },
    {
      "cell_type": "code",
      "source": [
        ""
      ],
      "metadata": {
        "id": "Z-hr5cQOOK0w"
      },
      "execution_count": null,
      "outputs": []
    }
  ]
}